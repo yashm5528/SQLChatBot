{
 "cells": [
  {
   "cell_type": "code",
   "execution_count": 1,
   "metadata": {},
   "outputs": [],
   "source": [
    "import pandas as pd\n",
    "import pickle"
   ]
  },
  {
   "cell_type": "code",
   "execution_count": 2,
   "metadata": {},
   "outputs": [
    {
     "name": "stdout",
     "output_type": "stream",
     "text": [
      "                                          HumanQuery  \\\n",
      "0  count the states which have elevations lower t...   \n",
      "1         give me the number of rivers in california   \n",
      "2                give me the states that border utah   \n",
      "3                         how high is mount mckinley   \n",
      "4           how high is the highest point in america   \n",
      "5        how long is the longest river in california   \n",
      "6                         how long is the ohio river   \n",
      "7                    how many people lived in austin   \n",
      "\n",
      "                                          Gold Query  \\\n",
      "0  select count(highlow.state_name) from highlow ...   \n",
      "1  select count(river.river_name) from river wher...   \n",
      "2  select border_info.border from border_info whe...   \n",
      "3  select highlow.highest_elevation from highlow ...   \n",
      "4  select max(highlow.highest_elevation) from hig...   \n",
      "5  select river.length from river where river.tra...   \n",
      "6  select river.length from river where river.riv...   \n",
      "7  select city.population from city where city.ci...   \n",
      "\n",
      "                                     Generated Query  \\\n",
      "0  SELECT COUNT(*) FROM highlow WHERE CAST(lowest...   \n",
      "1  SELECT COUNT(*) FROM river WHERE traverse = 'c...   \n",
      "2  SELECT DISTINCT state_name FROM border_info WH...   \n",
      "3  SELECT mountain_altitude FROM mountain WHERE m...   \n",
      "4  SELECT MAX(mountain_altitude) AS \"highest_poin...   \n",
      "5  SELECT MAX(length) FROM river WHERE country_na...   \n",
      "6  SELECT length FROM river WHERE river_name = 'o...   \n",
      "7  SELECT population FROM city WHERE city_name = ...   \n",
      "\n",
      "                                         Gold Result  \\\n",
      "0                                             [(2,)]   \n",
      "1                                             [(1,)]   \n",
      "2  [(wyoming,), (colorado,), (new mexico,), (ariz...   \n",
      "3                                          [(6194,)]   \n",
      "4                                           [(979,)]   \n",
      "5                                          [(2333,)]   \n",
      "6  [(1569,), (1569,), (1569,), (1569,), (1569,), ...   \n",
      "7                                        [(345496,)]   \n",
      "\n",
      "                                    Generated Result  \\\n",
      "0                                             [(2,)]   \n",
      "1                                             [(1,)]   \n",
      "2  [(arizona,), (colorado,), (idaho,), (nevada,),...   \n",
      "3                                          [(6194,)]   \n",
      "4                                          [(6194,)]   \n",
      "5                                          [(2333,)]   \n",
      "6  [(1569,), (1569,), (1569,), (1569,), (1569,), ...   \n",
      "7                                        [(345496,)]   \n",
      "\n",
      "                                    Generated Answer  \n",
      "0  The above query is counting the number of reco...  \n",
      "1  The query is counting the number of rows in th...  \n",
      "2  The SELECT DISTINCT state_name query from the ...  \n",
      "3  The query is selecting the mountain_altitude f...  \n",
      "4  This query returns the maximum (highest) value...  \n",
      "5  The query finds the maximum length of rivers i...  \n",
      "6  The SELECT length FROM river WHERE river_name ...  \n",
      "7  The SELECT statement is used to retrieve speci...  \n"
     ]
    }
   ],
   "source": [
    "#df = pd.read_csv(r'book1.results.csv')\n",
    "with open(r'C:\\Users\\anark\\Desktop\\Capstone\\SQLChatBot\\tuple_results.pkl', 'rb') as f:\n",
    "    results = pickle.load(f)\n",
    "\n",
    "# Convert dictionary to DataFrame\n",
    "df = pd.DataFrame(results)\n",
    "\n",
    "print(df)"
   ]
  },
  {
   "cell_type": "code",
   "execution_count": 3,
   "metadata": {},
   "outputs": [
    {
     "data": {
      "text/html": [
       "<div>\n",
       "<style scoped>\n",
       "    .dataframe tbody tr th:only-of-type {\n",
       "        vertical-align: middle;\n",
       "    }\n",
       "\n",
       "    .dataframe tbody tr th {\n",
       "        vertical-align: top;\n",
       "    }\n",
       "\n",
       "    .dataframe thead th {\n",
       "        text-align: right;\n",
       "    }\n",
       "</style>\n",
       "<table border=\"1\" class=\"dataframe\">\n",
       "  <thead>\n",
       "    <tr style=\"text-align: right;\">\n",
       "      <th></th>\n",
       "      <th>HumanQuery</th>\n",
       "      <th>Gold Query</th>\n",
       "      <th>Generated Query</th>\n",
       "      <th>Gold Result</th>\n",
       "      <th>Generated Result</th>\n",
       "      <th>Generated Answer</th>\n",
       "    </tr>\n",
       "  </thead>\n",
       "  <tbody>\n",
       "    <tr>\n",
       "      <th>0</th>\n",
       "      <td>count the states which have elevations lower t...</td>\n",
       "      <td>select count(highlow.state_name) from highlow ...</td>\n",
       "      <td>SELECT COUNT(*) FROM highlow WHERE CAST(lowest...</td>\n",
       "      <td>[(2,)]</td>\n",
       "      <td>[(2,)]</td>\n",
       "      <td>The above query is counting the number of reco...</td>\n",
       "    </tr>\n",
       "    <tr>\n",
       "      <th>1</th>\n",
       "      <td>give me the number of rivers in california</td>\n",
       "      <td>select count(river.river_name) from river wher...</td>\n",
       "      <td>SELECT COUNT(*) FROM river WHERE traverse = 'c...</td>\n",
       "      <td>[(1,)]</td>\n",
       "      <td>[(1,)]</td>\n",
       "      <td>The query is counting the number of rows in th...</td>\n",
       "    </tr>\n",
       "    <tr>\n",
       "      <th>2</th>\n",
       "      <td>give me the states that border utah</td>\n",
       "      <td>select border_info.border from border_info whe...</td>\n",
       "      <td>SELECT DISTINCT state_name FROM border_info WH...</td>\n",
       "      <td>[(wyoming,), (colorado,), (new mexico,), (ariz...</td>\n",
       "      <td>[(arizona,), (colorado,), (idaho,), (nevada,),...</td>\n",
       "      <td>The SELECT DISTINCT state_name query from the ...</td>\n",
       "    </tr>\n",
       "    <tr>\n",
       "      <th>3</th>\n",
       "      <td>how high is mount mckinley</td>\n",
       "      <td>select highlow.highest_elevation from highlow ...</td>\n",
       "      <td>SELECT mountain_altitude FROM mountain WHERE m...</td>\n",
       "      <td>[(6194,)]</td>\n",
       "      <td>[(6194,)]</td>\n",
       "      <td>The query is selecting the mountain_altitude f...</td>\n",
       "    </tr>\n",
       "    <tr>\n",
       "      <th>4</th>\n",
       "      <td>how high is the highest point in america</td>\n",
       "      <td>select max(highlow.highest_elevation) from hig...</td>\n",
       "      <td>SELECT MAX(mountain_altitude) AS \"highest_poin...</td>\n",
       "      <td>[(979,)]</td>\n",
       "      <td>[(6194,)]</td>\n",
       "      <td>This query returns the maximum (highest) value...</td>\n",
       "    </tr>\n",
       "  </tbody>\n",
       "</table>\n",
       "</div>"
      ],
      "text/plain": [
       "                                          HumanQuery  \\\n",
       "0  count the states which have elevations lower t...   \n",
       "1         give me the number of rivers in california   \n",
       "2                give me the states that border utah   \n",
       "3                         how high is mount mckinley   \n",
       "4           how high is the highest point in america   \n",
       "\n",
       "                                          Gold Query  \\\n",
       "0  select count(highlow.state_name) from highlow ...   \n",
       "1  select count(river.river_name) from river wher...   \n",
       "2  select border_info.border from border_info whe...   \n",
       "3  select highlow.highest_elevation from highlow ...   \n",
       "4  select max(highlow.highest_elevation) from hig...   \n",
       "\n",
       "                                     Generated Query  \\\n",
       "0  SELECT COUNT(*) FROM highlow WHERE CAST(lowest...   \n",
       "1  SELECT COUNT(*) FROM river WHERE traverse = 'c...   \n",
       "2  SELECT DISTINCT state_name FROM border_info WH...   \n",
       "3  SELECT mountain_altitude FROM mountain WHERE m...   \n",
       "4  SELECT MAX(mountain_altitude) AS \"highest_poin...   \n",
       "\n",
       "                                         Gold Result  \\\n",
       "0                                             [(2,)]   \n",
       "1                                             [(1,)]   \n",
       "2  [(wyoming,), (colorado,), (new mexico,), (ariz...   \n",
       "3                                          [(6194,)]   \n",
       "4                                           [(979,)]   \n",
       "\n",
       "                                    Generated Result  \\\n",
       "0                                             [(2,)]   \n",
       "1                                             [(1,)]   \n",
       "2  [(arizona,), (colorado,), (idaho,), (nevada,),...   \n",
       "3                                          [(6194,)]   \n",
       "4                                          [(6194,)]   \n",
       "\n",
       "                                    Generated Answer  \n",
       "0  The above query is counting the number of reco...  \n",
       "1  The query is counting the number of rows in th...  \n",
       "2  The SELECT DISTINCT state_name query from the ...  \n",
       "3  The query is selecting the mountain_altitude f...  \n",
       "4  This query returns the maximum (highest) value...  "
      ]
     },
     "execution_count": 3,
     "metadata": {},
     "output_type": "execute_result"
    }
   ],
   "source": [
    "df.head()"
   ]
  },
  {
   "cell_type": "code",
   "execution_count": 4,
   "metadata": {},
   "outputs": [
    {
     "name": "stdout",
     "output_type": "stream",
     "text": [
      "The SELECT DISTINCT state_name query from the border_info table where border is 'utah' returns a list of states that border Utah, including Arizona, Colorado, Idaho, Nevada, New Mexico, and Wyoming.\n"
     ]
    },
    {
     "data": {
      "text/plain": [
       "'\\nconverted_data = [item[0] for item in data_from_sqlite]\\nprint(converted_data)\\n'"
      ]
     },
     "execution_count": 4,
     "metadata": {},
     "output_type": "execute_result"
    }
   ],
   "source": [
    "#print(df['Gold Result'][2])\n",
    "data_from_sqlite = df['Generated Answer'][2]\n",
    "print(data_from_sqlite)\n",
    "# Convert list of tuples to list of strings\n",
    "'''\n",
    "converted_data = [item[0] for item in data_from_sqlite]\n",
    "print(converted_data)\n",
    "'''"
   ]
  },
  {
   "cell_type": "code",
   "execution_count": 5,
   "metadata": {},
   "outputs": [],
   "source": [
    "df['Gold Result'] = df['Gold Result'].apply(lambda x: [item[0] for item in x])\n",
    "df['Generated Result'] = df['Generated Result'].apply(lambda x: [item[0] for item in x])"
   ]
  },
  {
   "cell_type": "code",
   "execution_count": 6,
   "metadata": {},
   "outputs": [
    {
     "name": "stdout",
     "output_type": "stream",
     "text": [
      "0                                                  [2]\n",
      "1                                                  [1]\n",
      "2    [wyoming, colorado, new mexico, arizona, nevad...\n",
      "3                                               [6194]\n",
      "4                                                [979]\n",
      "5                                               [2333]\n",
      "6           [1569, 1569, 1569, 1569, 1569, 1569, 1569]\n",
      "7                                             [345496]\n",
      "Name: Gold Result, dtype: object\n"
     ]
    }
   ],
   "source": [
    "print(df['Gold Result'])"
   ]
  },
  {
   "cell_type": "code",
   "execution_count": 7,
   "metadata": {},
   "outputs": [
    {
     "name": "stdout",
     "output_type": "stream",
     "text": [
      "0                                                  [2]\n",
      "1                                                  [1]\n",
      "2    [arizona, colorado, idaho, nevada, new mexico,...\n",
      "3                                               [6194]\n",
      "4                                               [6194]\n",
      "5                                               [2333]\n",
      "6           [1569, 1569, 1569, 1569, 1569, 1569, 1569]\n",
      "7                                             [345496]\n",
      "Name: Generated Result, dtype: object\n"
     ]
    }
   ],
   "source": [
    "print(df['Generated Result'])"
   ]
  },
  {
   "cell_type": "code",
   "execution_count": 8,
   "metadata": {},
   "outputs": [
    {
     "name": "stdout",
     "output_type": "stream",
     "text": [
      "[2] \n",
      " [2] \n",
      " True\n",
      "[1] \n",
      " [1] \n",
      " True\n",
      "\n",
      "\n",
      "['wyoming', 'colorado', 'new mexico', 'arizona', 'nevada', 'idaho'] \n",
      " ['arizona', 'colorado', 'idaho', 'nevada', 'new mexico', 'wyoming'] \n",
      " True\n",
      "[6194] \n",
      " [6194] \n",
      " True\n",
      "[979] \n",
      " [6194] \n",
      " False\n",
      "[2333] \n",
      " [2333] \n",
      " True\n",
      "[1569, 1569, 1569, 1569, 1569, 1569, 1569] \n",
      " [1569, 1569, 1569, 1569, 1569, 1569, 1569] \n",
      " True\n",
      "[345496] \n",
      " [345496] \n",
      " True\n"
     ]
    }
   ],
   "source": [
    "from collections import Counter\n",
    "\n",
    "def check_lists_equal(generated_list, gold_list):\n",
    "    \n",
    "    try:\n",
    "        gold_list = [int(i) for i in gold_list]\n",
    "    except: \n",
    "        print(\"\\n\") \n",
    "    print(gold_list, \"\\n\", generated_list, \"\\n\", Counter(generated_list) == Counter(gold_list))\n",
    "    return Counter(generated_list) == Counter(gold_list)\n",
    "\n",
    "# Apply the function to each row\n",
    "df['Equal'] = df.apply(lambda row: check_lists_equal(row['Generated Result'], row['Gold Result']), axis=1)\n"
   ]
  },
  {
   "cell_type": "code",
   "execution_count": 9,
   "metadata": {},
   "outputs": [
    {
     "name": "stdout",
     "output_type": "stream",
     "text": [
      "0     True\n",
      "1     True\n",
      "2     True\n",
      "3     True\n",
      "4    False\n",
      "5     True\n",
      "6     True\n",
      "7     True\n",
      "Name: Equal, dtype: bool\n"
     ]
    }
   ],
   "source": [
    "print(df['Equal'])"
   ]
  },
  {
   "cell_type": "code",
   "execution_count": 14,
   "metadata": {},
   "outputs": [
    {
     "name": "stdout",
     "output_type": "stream",
     "text": [
      "The SELECT DISTINCT state_name query from the border_info table where border is 'utah' returns a list of states that border Utah, including Arizona, Colorado, Idaho, Nevada, New Mexico, and Wyoming.\n"
     ]
    }
   ],
   "source": [
    "print(df['Generated Answer'][2])"
   ]
  },
  {
   "cell_type": "code",
   "execution_count": 17,
   "metadata": {},
   "outputs": [
    {
     "name": "stdout",
     "output_type": "stream",
     "text": [
      "The SELECT DISTINCT state_name query from the border_info table where border is 'utah' returns a list of states that border Utah including Arizona Colorado Idaho Nevada New Mexico and Wyoming.\n",
      "['The', 'SELECT', 'DISTINCT', 'state_name', 'query', 'from', 'the', 'border_info', 'table', 'where', 'border', 'is', \"'utah'\", 'returns', 'a', 'list', 'of', 'states', 'that', 'border', 'Utah', 'including', 'Arizona', 'Colorado', 'Idaho', 'Nevada', 'New', 'Mexico', 'and', 'Wyoming.']\n"
     ]
    }
   ],
   "source": [
    "s = df['Generated Answer'][2]\n",
    "s = s.replace(\",\", \"\")\n",
    "print(s)\n",
    "words_list = s.split(' ')\n",
    "print(words_list)"
   ]
  },
  {
   "cell_type": "code",
   "execution_count": 44,
   "metadata": {},
   "outputs": [
    {
     "name": "stdout",
     "output_type": "stream",
     "text": [
      "2\n",
      "False\n",
      "[2] \n",
      " ['the', 'above', 'query', 'is', 'counting', 'the', 'number', 'of', 'records', 'in', 'the', '\"highlow\"', 'table', 'where', 'the', 'value', 'in', 'the', '\"lowest_elevation\"', 'column', 'is', 'less', 'than', 'the', 'lowest', 'elevation', 'value', 'in', 'alabama', 'it', 'returns', 'a', 'single', 'row', 'with', 'the', 'count', 'of', 'those', 'records', '']\n",
      "1\n",
      "True\n",
      "[1] \n",
      " ['the', 'query', 'is', 'counting', 'the', 'number', 'of', 'rows', 'in', 'the', '\"river\"', 'table', 'where', 'the', '\"traverse\"', 'column', 'has', 'a', 'value', 'of', '\"california\"', 'the', 'result', 'of', 'the', 'query', 'is', 'a', 'single', 'row', 'with', 'the', 'count', 'of', 'matching', 'rows', 'indicated', 'by', 'the', 'value', 'of', '1']\n",
      "\n",
      "\n",
      "arizona\n",
      "True\n",
      "colorado\n",
      "True\n",
      "idaho\n",
      "True\n",
      "nevada\n",
      "True\n",
      "new\n",
      "True\n",
      "mexico\n",
      "True\n",
      "wyoming\n",
      "True\n",
      "['arizona', 'colorado', 'idaho', 'nevada', 'new mexico', 'wyoming'] \n",
      " ['the', 'select', 'distinct', 'state_name', 'query', 'from', 'the', 'border_info', 'table', 'where', 'border', 'is', \"'utah'\", 'returns', 'a', 'list', 'of', 'states', 'that', 'border', 'utah', 'including', 'arizona', 'colorado', 'idaho', 'nevada', 'new', 'mexico', 'and', 'wyoming']\n",
      "6194\n",
      "True\n",
      "[6194] \n",
      " ['the', 'query', 'is', 'selecting', 'the', 'mountain_altitude', 'from', 'the', 'mountain', 'table', 'where', 'the', 'mountain_name', 'is', '\"mckinley\"', 'the', 'result', 'of', 'the', 'query', 'is', 'a', 'single', 'value', 'which', 'is', '6194']\n",
      "6194\n",
      "True\n",
      "[6194] \n",
      " ['this', 'query', 'returns', 'the', 'maximum', '(highest)', 'value', 'of', 'the', '\"mountain_altitude\"', 'column', 'in', 'the', '\"mountain\"', 'table', 'and', 'aliases', 'it', 'as', '\"highest_point\"', 'the', 'result', 'is', 'a', 'single', 'value', '6194', 'indicating', 'the', 'highest', 'altitude', 'among', 'all', 'mountains', 'in', 'the', 'table']\n",
      "2333\n",
      "True\n",
      "[2333] \n",
      " ['the', 'query', 'finds', 'the', 'maximum', 'length', 'of', 'rivers', 'in', 'the', 'usa', 'that', 'traverse', 'california', 'the', 'result', 'is', 'a', 'single', 'value', 'of', '2333']\n",
      "1569\n",
      "True\n",
      "1569\n",
      "True\n",
      "1569\n",
      "True\n",
      "1569\n",
      "True\n",
      "1569\n",
      "True\n",
      "1569\n",
      "True\n",
      "1569\n",
      "True\n",
      "[1569, 1569, 1569, 1569, 1569, 1569, 1569] \n",
      " ['the', 'select', 'length', 'from', 'river', 'where', 'river_name', '=', \"'ohio'\", 'query', 'retrieves', 'a', 'list', 'of', 'the', 'length', 'of', 'the', 'ohio', 'river', 'which', 'is', 'approximately', '1569', 'miles', 'long', 'this', 'query', 'is', 'executed', 'seven', 'times', 'resulting', 'in', 'a', 'detailed', 'list', 'of', '[(1569)', '(1569)', '(1569)', '(1569)', '(1569)', '(1569)', '(1569)]']\n",
      "345496\n",
      "True\n",
      "[345496] \n",
      " ['the', 'select', 'statement', 'is', 'used', 'to', 'retrieve', 'specific', 'data', 'from', 'a', 'database', 'in', 'this', 'case', 'the', 'data', 'being', 'retrieved', 'is', 'the', 'population', 'from', 'the', 'city', 'table', 'the', 'where', 'clause', 'is', 'used', 'to', 'specify', 'a', 'condition', 'in', 'this', 'case', 'the', 'city_name', 'being', 'equal', 'to', '\"austin\"', 'the', 'result', 'of', 'this', 'query', 'is', 'a', 'single', 'row', 'containing', 'the', 'population', 'of', 'austin', 'which', 'is', '345496']\n"
     ]
    }
   ],
   "source": [
    "def check_result_in_answer(Generated_list, generated_answer):\n",
    "    \n",
    "    try:\n",
    "        Generated_list = [int(i) for i in Generated_list]\n",
    "    except: \n",
    "        print(\"\\n\") \n",
    "    #print(gold_list, \"\\n\", generated_answer)\n",
    "    generated_answer = generated_answer.replace(\",\", \"\").replace(\".\",\"\")\n",
    "    generated_answer = generated_answer.lower()\n",
    "    words_list = generated_answer.split(' ')\n",
    "    y = True\n",
    "    for item in Generated_list:\n",
    "        try:\n",
    "            item = item.lower()\n",
    "            item_list = item.split(' ')\n",
    "            for item in item_list:\n",
    "                try:\n",
    "                    x = str(item) in words_list\n",
    "                    print(str(item))\n",
    "                    print(x)\n",
    "                    if x == False:\n",
    "                        y = False\n",
    "                except:\n",
    "                    x = item in words_list\n",
    "                    print(x)\n",
    "                    if x == False:\n",
    "                        y = False\n",
    "        except:\n",
    "            try:\n",
    "                x = str(item) in words_list\n",
    "                print(str(item))\n",
    "                print(x)\n",
    "                if x == False:\n",
    "                    y = False\n",
    "            except:\n",
    "                x = item in words_list\n",
    "                print(x)\n",
    "                if x == False:\n",
    "                    y = False\n",
    "\n",
    "    print(Generated_list, \"\\n\", words_list)\n",
    "    return y\n",
    "\n",
    "df['Result in Answer'] = df.apply(lambda row: check_result_in_answer(row['Generated Result'], row['Generated Answer']), axis=1)"
   ]
  },
  {
   "cell_type": "code",
   "execution_count": 45,
   "metadata": {},
   "outputs": [
    {
     "name": "stdout",
     "output_type": "stream",
     "text": [
      "0    False\n",
      "1     True\n",
      "2     True\n",
      "3     True\n",
      "4     True\n",
      "5     True\n",
      "6     True\n",
      "7     True\n",
      "Name: Result in Answer, dtype: bool\n"
     ]
    }
   ],
   "source": [
    "print(df['Result in Answer'])"
   ]
  },
  {
   "cell_type": "code",
   "execution_count": 53,
   "metadata": {},
   "outputs": [
    {
     "name": "stdout",
     "output_type": "stream",
     "text": [
      "87.5 %\n",
      "75.0 %\n"
     ]
    }
   ],
   "source": [
    "execution_accuracy = df['Equal'].mean() * 100\n",
    "\n",
    "print(execution_accuracy,'%')\n",
    "\n",
    "combined_accuracy = (df[(df['Result in Answer'] == True) & (df['Equal'] == True)].shape[0] / df.shape[0]) * 100\n",
    "\n",
    "print(combined_accuracy,'%')\n",
    "\n"
   ]
  },
  {
   "cell_type": "code",
   "execution_count": null,
   "metadata": {},
   "outputs": [],
   "source": []
  }
 ],
 "metadata": {
  "kernelspec": {
   "display_name": "Python 3",
   "language": "python",
   "name": "python3"
  },
  "language_info": {
   "codemirror_mode": {
    "name": "ipython",
    "version": 3
   },
   "file_extension": ".py",
   "mimetype": "text/x-python",
   "name": "python",
   "nbconvert_exporter": "python",
   "pygments_lexer": "ipython3",
   "version": "3.9.10"
  }
 },
 "nbformat": 4,
 "nbformat_minor": 2
}
